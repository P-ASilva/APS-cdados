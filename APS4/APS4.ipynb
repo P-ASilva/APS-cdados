{
 "cells": [
  {
   "cell_type": "code",
   "execution_count": 28,
   "metadata": {},
   "outputs": [],
   "source": [
    "# Imports\n",
    "\n",
    "import pandas as pd\n",
    "import matplotlib.pyplot as plt\n",
    "import seaborn as sns\n",
    "import numpy as np\n",
    "import math\n",
    "import scipy.stats as stat"
   ]
  },
  {
   "cell_type": "code",
   "execution_count": 29,
   "metadata": {},
   "outputs": [],
   "source": [
    "# Inicialização e preparação dos dados para manipulação\n",
    "pd.set_option('display.max_columns', None)\n",
    "df = pd.read_csv('GfSD\\SDGData.csv', sep=',',decimal='.', skiprows=0)\n",
    "df = df.set_index('Indicator Name')\n",
    "\n",
    "# Indicador escolhido nas entregas anteriores\n",
    "df = df.loc['Share of youth not in education, employment or training, total (% of youth population)']\n",
    "\n",
    "# Preparação dos anos, e países por bloco\n",
    "years = [str(i) for i in range(2000,2021)]\n",
    "country_names = {\n",
    "    'MERCOSUL' : ['Brazil','Argentina','Paraguay','Uruguay','Venezuela, RB','Chile','Peru','Colombia','Ecuador','Guyana','Suriname'] ,\n",
    "    'UE' : ['Austria', 'Belgium', 'Croatia', 'Cyprus', 'Czech Republic', 'Denmark', 'Estonia', 'Finland', 'France', 'Germany', 'Greece', 'Hungary', 'Ireland', 'Italy', 'Latvia', 'Lithuania', 'Luxembourg', 'Malta', 'Netherlands', 'Poland', 'Portugal', 'Romania', 'Slovak Republic', 'Slovenia', 'Spain', 'Sweden'],\n",
    "}"
   ]
  },
  {
   "cell_type": "code",
   "execution_count": 30,
   "metadata": {},
   "outputs": [],
   "source": [
    "# Tratando e dividindo o dataset\n",
    "\n",
    "df = df.set_index('Country Name')\n",
    "\n",
    "df_mercosul = df.loc[country_names['MERCOSUL']]\n",
    "df_eu = df.loc[country_names['UE']]"
   ]
  },
  {
   "cell_type": "code",
   "execution_count": 31,
   "metadata": {},
   "outputs": [],
   "source": [
    "# Determinando um critério por meio do cálculo de uma distribuição normal para cada país\n",
    "\n",
    "# Escolhemos o ano de 2020 por ser o mais próximo do ano atual (2022)\n",
    "mean = df['2020'].mean()\n",
    "std = df['2020'].std()\n",
    "\n",
    "z = (df['2020'] - mean)/std\n",
    "w = 2\n",
    "filtro = (z < w) * (z > -w)\n",
    "x = df['2020'][filtro]"
   ]
  },
  {
   "cell_type": "code",
   "execution_count": 32,
   "metadata": {},
   "outputs": [],
   "source": [
    "# Definindo o critério por código\n",
    "criterio_avancado_mundial = z < z.mean()\n",
    "criterio_atrasado_mundial = z >= z.mean()\n",
    "\n",
    "# Probabilidades de cada bloco ser avançado ou atrasado de acordo com o critério mundial\n",
    "P_avancado_mundial = criterio_avancado_mundial.value_counts()[True]/criterio_avancado_mundial.value_counts().sum()\n",
    "P_atrasado_mundial = criterio_avancado_mundial.value_counts()[True]/criterio_avancado_mundial.value_counts().sum()\n"
   ]
  },
  {
   "cell_type": "code",
   "execution_count": 33,
   "metadata": {},
   "outputs": [],
   "source": [
    "# Além de calcular esse critério para o mundo, vamos calcular para cada bloco. Isso será usado nas questões posteriores\n",
    "\n",
    "\n",
    "# MERCOSUL\n",
    "mean = df_mercosul['2020'].mean()\n",
    "std = df_mercosul['2020'].std()\n",
    "\n",
    "z = (df_mercosul['2020'] - mean)/std\n",
    "w = 2\n",
    "filtro = z < w\n",
    "x = df_mercosul['2020'][filtro]\n",
    "filtro = z > -w\n",
    "x = x[filtro]\n",
    "\n",
    "criterio_avancado_mercosul = z < z.mean()\n",
    "criterio_atrasado_mercosul = z >= z.mean()\n",
    "\n",
    "\n",
    "# UE\n",
    "mean = df_eu['2020'].mean()\n",
    "std = df_eu['2020'].std()\n",
    "\n",
    "z = (df_eu['2020'] - mean)/std\n",
    "w = 2\n",
    "filtro = z < w\n",
    "x = df_eu['2020'][filtro]\n",
    "filtro = z > -w\n",
    "x = x[filtro]\n",
    "\n",
    "criterio_avancado_eu = z < z.mean()\n",
    "criterio_atrasado_eu = z >= z.mean()"
   ]
  },
  {
   "cell_type": "code",
   "execution_count": 34,
   "metadata": {},
   "outputs": [
    {
     "name": "stderr",
     "output_type": "stream",
     "text": [
      "C:\\Users\\pache\\AppData\\Local\\Temp\\ipykernel_9576\\2106342372.py:7: FutureWarning: The frame.append method is deprecated and will be removed from pandas in a future version. Use pandas.concat instead.\n",
      "  data = data.append(data1)\n"
     ]
    }
   ],
   "source": [
    "data = pd.DataFrame(criterio_avancado_mercosul.value_counts())\n",
    "data1 = pd.DataFrame(criterio_avancado_eu.value_counts())\n",
    "data['bloco'] = ['MERCOSUL atrasado','MERCOSUL avançado']\n",
    "data1['bloco'] = ['UE atrasado','UE avançado']\n",
    "\n",
    "# merge data1 and data\n",
    "data = data.append(data1)\n",
    "data = data.set_index('bloco')"
   ]
  },
  {
   "cell_type": "markdown",
   "metadata": {},
   "source": [
    "# Questão 1"
   ]
  },
  {
   "cell_type": "code",
   "execution_count": 35,
   "metadata": {},
   "outputs": [
    {
     "name": "stdout",
     "output_type": "stream",
     "text": [
      "A probabilidade de um país do MERCOSUL ser avançado é de 18.18%.\n",
      "A probabilidade de um país da UE ser avançado é de 57.69%.\n"
     ]
    }
   ],
   "source": [
    "P_avancado_eu = criterio_avancado_eu.value_counts()[True]/criterio_avancado_eu.value_counts().sum()\n",
    "P_avancado_mercosul = criterio_avancado_mercosul.value_counts()[True]/criterio_avancado_mercosul.value_counts().sum()\n",
    "\n",
    "print('A probabilidade de um país do MERCOSUL ser avançado é de {:.2f}%.'.format(P_avancado_mercosul*100))\n",
    "print('A probabilidade de um país da UE ser avançado é de {:.2f}%.'.format(P_avancado_eu*100))"
   ]
  },
  {
   "cell_type": "markdown",
   "metadata": {},
   "source": [
    "# Questão 2"
   ]
  },
  {
   "cell_type": "code",
   "execution_count": 36,
   "metadata": {},
   "outputs": [
    {
     "ename": "ValueError",
     "evalue": "each sample in `data` must contain two or more observations along `axis`.",
     "output_type": "error",
     "traceback": [
      "\u001b[1;31m---------------------------------------------------------------------------\u001b[0m",
      "\u001b[1;31mValueError\u001b[0m                                Traceback (most recent call last)",
      "Cell \u001b[1;32mIn [36], line 10\u001b[0m\n\u001b[0;32m      7\u001b[0m data_mercosul \u001b[39m=\u001b[39m (data_mercosul,)\n\u001b[0;32m      8\u001b[0m data_eu \u001b[39m=\u001b[39m (data_eu,)\n\u001b[1;32m---> 10\u001b[0m res_mercosul \u001b[39m=\u001b[39m stat\u001b[39m.\u001b[39mbootstrap(data_mercosul, np\u001b[39m.\u001b[39mmean, confidence_level\u001b[39m=\u001b[39m\u001b[39m0.90\u001b[39m)\n\u001b[0;32m     11\u001b[0m res_eu \u001b[39m=\u001b[39m stat\u001b[39m.\u001b[39mbootstrap(data_eu, np\u001b[39m.\u001b[39mmean, confidence_level\u001b[39m=\u001b[39m\u001b[39m0.90\u001b[39m)\n",
      "File \u001b[1;32m~\\AppData\\Local\\Packages\\PythonSoftwareFoundation.Python.3.10_qbz5n2kfra8p0\\LocalCache\\local-packages\\Python310\\site-packages\\scipy\\stats\\_resampling.py:450\u001b[0m, in \u001b[0;36mbootstrap\u001b[1;34m(data, statistic, n_resamples, batch, vectorized, paired, axis, confidence_level, method, random_state)\u001b[0m\n\u001b[0;32m    217\u001b[0m \u001b[39mr\u001b[39m\u001b[39m\"\"\"\u001b[39;00m\n\u001b[0;32m    218\u001b[0m \u001b[39mCompute a two-sided bootstrap confidence interval of a statistic.\u001b[39;00m\n\u001b[0;32m    219\u001b[0m \n\u001b[1;32m   (...)\u001b[0m\n\u001b[0;32m    447\u001b[0m \n\u001b[0;32m    448\u001b[0m \u001b[39m\"\"\"\u001b[39;00m\n\u001b[0;32m    449\u001b[0m \u001b[39m# Input validation\u001b[39;00m\n\u001b[1;32m--> 450\u001b[0m args \u001b[39m=\u001b[39m _bootstrap_iv(data, statistic, vectorized, paired, axis,\n\u001b[0;32m    451\u001b[0m                      confidence_level, n_resamples, batch, method,\n\u001b[0;32m    452\u001b[0m                      random_state)\n\u001b[0;32m    453\u001b[0m data, statistic, vectorized, paired, axis \u001b[39m=\u001b[39m args[:\u001b[39m5\u001b[39m]\n\u001b[0;32m    454\u001b[0m confidence_level, n_resamples, batch, method, random_state \u001b[39m=\u001b[39m args[\u001b[39m5\u001b[39m:]\n",
      "File \u001b[1;32m~\\AppData\\Local\\Packages\\PythonSoftwareFoundation.Python.3.10_qbz5n2kfra8p0\\LocalCache\\local-packages\\Python310\\site-packages\\scipy\\stats\\_resampling.py:157\u001b[0m, in \u001b[0;36m_bootstrap_iv\u001b[1;34m(data, statistic, vectorized, paired, axis, confidence_level, n_resamples, batch, method, random_state)\u001b[0m\n\u001b[0;32m    155\u001b[0m sample \u001b[39m=\u001b[39m np\u001b[39m.\u001b[39matleast_1d(sample)\n\u001b[0;32m    156\u001b[0m \u001b[39mif\u001b[39;00m sample\u001b[39m.\u001b[39mshape[axis_int] \u001b[39m<\u001b[39m\u001b[39m=\u001b[39m \u001b[39m1\u001b[39m:\n\u001b[1;32m--> 157\u001b[0m     \u001b[39mraise\u001b[39;00m \u001b[39mValueError\u001b[39;00m(\u001b[39m\"\u001b[39m\u001b[39meach sample in `data` must contain two or more \u001b[39m\u001b[39m\"\u001b[39m\n\u001b[0;32m    158\u001b[0m                      \u001b[39m\"\u001b[39m\u001b[39mobservations along `axis`.\u001b[39m\u001b[39m\"\u001b[39m)\n\u001b[0;32m    159\u001b[0m sample \u001b[39m=\u001b[39m np\u001b[39m.\u001b[39mmoveaxis(sample, axis_int, \u001b[39m-\u001b[39m\u001b[39m1\u001b[39m)\n\u001b[0;32m    160\u001b[0m data_iv\u001b[39m.\u001b[39mappend(sample)\n",
      "\u001b[1;31mValueError\u001b[0m: each sample in `data` must contain two or more observations along `axis`."
     ]
    }
   ],
   "source": [
    "data_mercosul = [criterio_avancado_mercosul]\n",
    "data_eu = [criterio_avancado_eu]\n",
    "\n",
    "data_mercosul = np.array(data_mercosul)\n",
    "data_eu = np.array(data_eu)\n",
    "\n",
    "data_mercosul = (data_mercosul,)\n",
    "data_eu = (data_eu,)\n",
    "\n",
    "res_mercosul = stat.bootstrap(data_mercosul, np.mean, confidence_level=0.90)\n",
    "res_eu = stat.bootstrap(data_eu, np.mean, confidence_level=0.90)\n",
    "\n",
    "# perguntar pro prof se a gente troca os Trues e Falses por 1 e 0\n",
    "\n",
    "# talvez eu tenha feito besteira? parece que era pra o data ser um array das probabilidades P(avançado|bloco) e não um array de True e False????"
   ]
  },
  {
   "cell_type": "code",
   "execution_count": 40,
   "metadata": {},
   "outputs": [
    {
     "ename": "ValueError",
     "evalue": "The truth value of a Series is ambiguous. Use a.empty, a.bool(), a.item(), a.any() or a.all().",
     "output_type": "error",
     "traceback": [
      "\u001b[1;31m---------------------------------------------------------------------------\u001b[0m",
      "\u001b[1;31mValueError\u001b[0m                                Traceback (most recent call last)",
      "Cell \u001b[1;32mIn [40], line 10\u001b[0m\n\u001b[0;32m      7\u001b[0m data_eu_novo \u001b[39m=\u001b[39m []\n\u001b[0;32m      9\u001b[0m \u001b[39mfor\u001b[39;00m country \u001b[39min\u001b[39;00m data_mercosul:\n\u001b[1;32m---> 10\u001b[0m     \u001b[39mif\u001b[39;00m country \u001b[39m==\u001b[39m \u001b[39mTrue\u001b[39;00m:\n\u001b[0;32m     11\u001b[0m         data_mercosul_novo\u001b[39m.\u001b[39mappend(\u001b[39m1\u001b[39m)\n\u001b[0;32m     12\u001b[0m     \u001b[39melse\u001b[39;00m:\n",
      "File \u001b[1;32m~\\AppData\\Local\\Packages\\PythonSoftwareFoundation.Python.3.10_qbz5n2kfra8p0\\LocalCache\\local-packages\\Python310\\site-packages\\pandas\\core\\generic.py:1526\u001b[0m, in \u001b[0;36mNDFrame.__nonzero__\u001b[1;34m(self)\u001b[0m\n\u001b[0;32m   1524\u001b[0m \u001b[39m@final\u001b[39m\n\u001b[0;32m   1525\u001b[0m \u001b[39mdef\u001b[39;00m \u001b[39m__nonzero__\u001b[39m(\u001b[39mself\u001b[39m) \u001b[39m-\u001b[39m\u001b[39m>\u001b[39m NoReturn:\n\u001b[1;32m-> 1526\u001b[0m     \u001b[39mraise\u001b[39;00m \u001b[39mValueError\u001b[39;00m(\n\u001b[0;32m   1527\u001b[0m         \u001b[39mf\u001b[39m\u001b[39m\"\u001b[39m\u001b[39mThe truth value of a \u001b[39m\u001b[39m{\u001b[39;00m\u001b[39mtype\u001b[39m(\u001b[39mself\u001b[39m)\u001b[39m.\u001b[39m\u001b[39m__name__\u001b[39m\u001b[39m}\u001b[39;00m\u001b[39m is ambiguous. \u001b[39m\u001b[39m\"\u001b[39m\n\u001b[0;32m   1528\u001b[0m         \u001b[39m\"\u001b[39m\u001b[39mUse a.empty, a.bool(), a.item(), a.any() or a.all().\u001b[39m\u001b[39m\"\u001b[39m\n\u001b[0;32m   1529\u001b[0m     )\n",
      "\u001b[1;31mValueError\u001b[0m: The truth value of a Series is ambiguous. Use a.empty, a.bool(), a.item(), a.any() or a.all()."
     ]
    }
   ],
   "source": [
    "# ah bora testar aqui vai\n",
    "\n",
    "data_mercosul = [criterio_avancado_mercosul]\n",
    "data_eu = [criterio_avancado_eu]\n",
    "\n",
    "data_mercosul_novo = []\n",
    "data_eu_novo = []\n",
    "\n",
    "for country in data_mercosul:\n",
    "    if country == True:\n",
    "        data_mercosul_novo.append(1)\n",
    "    else:\n",
    "        data_mercosul_novo.append(0)\n",
    "\n",
    "for country in data_eu:\n",
    "    if country == True:\n",
    "        data_eu_novo.append(1)\n",
    "    else:\n",
    "        data_eu_novo.append(0)\n",
    "\n",
    "print(data_mercosul)\n",
    "print(data_eu)\n",
    "\n",
    "data_mercosul_novo = (data_mercosul_novo,)\n",
    "data_eu_novo = (data_eu_novo,)\n",
    "\n",
    "print(data_mercosul_novo)\n",
    "print(data_eu_novo)\n",
    "\n",
    "# ESQUECE, O PYTHON ME ODEIA"
   ]
  }
 ],
 "metadata": {
  "kernelspec": {
   "display_name": "Python 3.10.8 64-bit (microsoft store)",
   "language": "python",
   "name": "python3"
  },
  "language_info": {
   "codemirror_mode": {
    "name": "ipython",
    "version": 3
   },
   "file_extension": ".py",
   "mimetype": "text/x-python",
   "name": "python",
   "nbconvert_exporter": "python",
   "pygments_lexer": "ipython3",
   "version": "3.10.8"
  },
  "orig_nbformat": 4,
  "vscode": {
   "interpreter": {
    "hash": "a8c838542c43d13d6fb1e17acd4e560fbc2695aad8c2b10825f20c6b73017b6f"
   }
  }
 },
 "nbformat": 4,
 "nbformat_minor": 2
}
