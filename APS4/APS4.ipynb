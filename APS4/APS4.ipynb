{
 "cells": [
  {
   "cell_type": "markdown",
   "metadata": {},
   "source": [
    "Não entendi se tinha que fazer o gráfico do P(avançado|bloco) pro antigo ou pro do Bootstrap. Eu deletei o antigo, mas dá pra copiar e colar de novo."
   ]
  },
  {
   "cell_type": "code",
   "execution_count": 101,
   "metadata": {},
   "outputs": [],
   "source": [
    "# Imports\n",
    "\n",
    "import pandas as pd\n",
    "import matplotlib.pyplot as plt\n",
    "import seaborn as sns\n",
    "import numpy as np\n",
    "import math\n",
    "import scipy.stats as stat"
   ]
  },
  {
   "cell_type": "code",
   "execution_count": 102,
   "metadata": {},
   "outputs": [],
   "source": [
    "# Inicialização e preparação dos dados para manipulação\n",
    "pd.set_option('display.max_columns', None)\n",
    "df = pd.read_csv('GfSD\\SDGData.csv', sep=',',decimal='.', skiprows=0)\n",
    "df = df.set_index('Indicator Name')\n",
    "\n",
    "# Indicador escolhido nas entregas anteriores\n",
    "df = df.loc['Share of youth not in education, employment or training, total (% of youth population)']\n",
    "\n",
    "# Preparação dos anos, e países por bloco\n",
    "years = [str(i) for i in range(2000,2021)]\n",
    "country_names = {\n",
    "    'MERCOSUL' : ['Brazil','Argentina','Paraguay','Uruguay','Venezuela, RB','Chile','Peru','Colombia','Ecuador','Guyana','Suriname'] ,\n",
    "    'UE' : ['Austria', 'Belgium', 'Croatia', 'Cyprus', 'Czech Republic', 'Denmark', 'Estonia', 'Finland', 'France', 'Germany', 'Greece', 'Hungary', 'Ireland', 'Italy', 'Latvia', 'Lithuania', 'Luxembourg', 'Malta', 'Netherlands', 'Poland', 'Portugal', 'Romania', 'Slovak Republic', 'Slovenia', 'Spain', 'Sweden'],\n",
    "}"
   ]
  },
  {
   "cell_type": "code",
   "execution_count": 103,
   "metadata": {},
   "outputs": [],
   "source": [
    "# Tratando e dividindo o dataset\n",
    "\n",
    "df = df.set_index('Country Name')\n",
    "\n",
    "df_mercosul = df.loc[country_names['MERCOSUL']]\n",
    "df_eu = df.loc[country_names['UE']]"
   ]
  },
  {
   "cell_type": "code",
   "execution_count": 104,
   "metadata": {},
   "outputs": [],
   "source": [
    "# Determinando um critério por meio do cálculo de uma distribuição normal para cada país\n",
    "\n",
    "# Escolhemos o ano de 2020 por ser o mais próximo do ano atual (2022)\n",
    "mean = df['2020'].mean()\n",
    "std = df['2020'].std()\n",
    "\n",
    "z = (df['2020'] - mean)/std\n",
    "w = 2\n",
    "filtro = (z < w) * (z > -w)\n",
    "x = df['2020'][filtro]"
   ]
  },
  {
   "cell_type": "code",
   "execution_count": 105,
   "metadata": {},
   "outputs": [],
   "source": [
    "# Definindo o critério por código\n",
    "criterio_avancado_mundial = z < z.mean()\n",
    "criterio_atrasado_mundial = z >= z.mean()\n",
    "\n",
    "# Probabilidades de cada bloco ser avançado ou atrasado de acordo com o critério mundial\n",
    "P_avancado_mundial = criterio_avancado_mundial.value_counts()[True]/criterio_avancado_mundial.value_counts().sum()\n",
    "P_atrasado_mundial = criterio_avancado_mundial.value_counts()[True]/criterio_avancado_mundial.value_counts().sum()\n"
   ]
  },
  {
   "cell_type": "code",
   "execution_count": 106,
   "metadata": {},
   "outputs": [],
   "source": [
    "# Além de calcular esse critério para o mundo, vamos calcular para cada bloco. Isso será usado nas questões posteriores\n",
    "\n",
    "\n",
    "# MERCOSUL\n",
    "mean = df_mercosul['2020'].mean()\n",
    "std = df_mercosul['2020'].std()\n",
    "\n",
    "z = (df_mercosul['2020'] - mean)/std\n",
    "w = 2\n",
    "filtro = z < w\n",
    "x = df_mercosul['2020'][filtro]\n",
    "filtro = z > -w\n",
    "x = x[filtro]\n",
    "\n",
    "criterio_avancado_mercosul = z < z.mean()\n",
    "criterio_atrasado_mercosul = z >= z.mean()\n",
    "\n",
    "\n",
    "# UE\n",
    "mean = df_eu['2020'].mean()\n",
    "std = df_eu['2020'].std()\n",
    "\n",
    "z = (df_eu['2020'] - mean)/std\n",
    "w = 2\n",
    "filtro = z < w\n",
    "x = df_eu['2020'][filtro]\n",
    "filtro = z > -w\n",
    "x = x[filtro]\n",
    "\n",
    "criterio_avancado_eu = z < z.mean()\n",
    "criterio_atrasado_eu = z >= z.mean()"
   ]
  },
  {
   "cell_type": "code",
   "execution_count": 107,
   "metadata": {},
   "outputs": [
    {
     "name": "stderr",
     "output_type": "stream",
     "text": [
      "C:\\Users\\pache\\AppData\\Local\\Temp\\ipykernel_10944\\2106342372.py:7: FutureWarning: The frame.append method is deprecated and will be removed from pandas in a future version. Use pandas.concat instead.\n",
      "  data = data.append(data1)\n"
     ]
    }
   ],
   "source": [
    "data = pd.DataFrame(criterio_avancado_mercosul.value_counts())\n",
    "data1 = pd.DataFrame(criterio_avancado_eu.value_counts())\n",
    "data['bloco'] = ['MERCOSUL atrasado','MERCOSUL avançado']\n",
    "data1['bloco'] = ['UE atrasado','UE avançado']\n",
    "\n",
    "# merge data1 and data\n",
    "data = data.append(data1)\n",
    "data = data.set_index('bloco')"
   ]
  },
  {
   "cell_type": "markdown",
   "metadata": {},
   "source": [
    "# Questão 1"
   ]
  },
  {
   "cell_type": "code",
   "execution_count": 108,
   "metadata": {},
   "outputs": [
    {
     "name": "stdout",
     "output_type": "stream",
     "text": [
      "A probabilidade de um país do MERCOSUL ser avançado é de 18.18%.\n",
      "A probabilidade de um país da UE ser avançado é de 57.69%.\n"
     ]
    }
   ],
   "source": [
    "P_avancado_eu = criterio_avancado_eu.value_counts()[True]/criterio_avancado_eu.value_counts().sum()\n",
    "P_avancado_mercosul = criterio_avancado_mercosul.value_counts()[True]/criterio_avancado_mercosul.value_counts().sum()\n",
    "\n",
    "print('A probabilidade de um país do MERCOSUL ser avançado é de {:.2f}%.'.format(P_avancado_mercosul*100))\n",
    "print('A probabilidade de um país da UE ser avançado é de {:.2f}%.'.format(P_avancado_eu*100))"
   ]
  },
  {
   "cell_type": "markdown",
   "metadata": {},
   "source": [
    "# Questão 2"
   ]
  },
  {
   "cell_type": "code",
   "execution_count": 109,
   "metadata": {},
   "outputs": [
    {
     "name": "stdout",
     "output_type": "stream",
     "text": [
      "O intervalo de confiança para a probabilidade de um país do MERCOSUL ser avançado é de aproximadamente 13.00% a 25.00%.\n",
      "O intervalo de confiança para a probabilidade de um país da UE ser avançado é de aproximadamente 49.00% a 66.05%.\n"
     ]
    }
   ],
   "source": [
    "data_mercosul = [criterio_avancado_mercosul]\n",
    "data_eu = [criterio_avancado_eu]\n",
    "\n",
    "data_mercosul = np.array(data_mercosul)\n",
    "data_eu = np.array(data_eu)\n",
    "\n",
    "data_mercosul = (data_mercosul,)\n",
    "data_eu = (data_eu,)\n",
    "\n",
    "# fazer o próprio bootstrapping em vez de usar a função pronta\n",
    "\n",
    "def reamostrar_varias_vezes(amostras, n, m):\n",
    "    # Coloque sua função aqui\n",
    "    mean = []\n",
    "    p_avançado = []\n",
    "    for i in range(n):\n",
    "        favoravel = 0\n",
    "        amostras_ = np.random.choice(amostras, size=m, replace=True)\n",
    "\n",
    "        for n in amostras_:\n",
    "            if n <= amostras.mean():\n",
    "                favoravel += 1\n",
    "        p_avançado.append(favoravel/m)\n",
    "\n",
    "    return np.mean(p_avançado), np.percentile(p_avançado, 5) , np.percentile(p_avançado, 95)\n",
    "\n",
    "#reamostrar_varias_vezes(df_mercosul['2020'],100,100),reamostrar_varias_vezes(df_eu['2020'],100,100)\n",
    "\n",
    "print(f'O intervalo de confiança para a probabilidade de um país do MERCOSUL ser avançado é de aproximadamente {reamostrar_varias_vezes(df_mercosul[\"2020\"],100,100)[1]*100:.2f}% a {reamostrar_varias_vezes(df_mercosul[\"2020\"],100,100)[2]*100:.2f}%.')\n",
    "print(f'O intervalo de confiança para a probabilidade de um país da UE ser avançado é de aproximadamente {reamostrar_varias_vezes(df_eu[\"2020\"],100,100)[1]*100:.2f}% a {reamostrar_varias_vezes(df_eu[\"2020\"],100,100)[2]*100:.2f}%.')"
   ]
  },
  {
   "cell_type": "markdown",
   "metadata": {},
   "source": [
    "# Questão 3"
   ]
  },
  {
   "cell_type": "code",
   "execution_count": 110,
   "metadata": {},
   "outputs": [
    {
     "data": {
      "image/png": "[encoded data removed]",
      "text/plain": [
       "<Figure size 1000x500 with 1 Axes>"
      ]
     },
     "metadata": {},
     "output_type": "display_data"
    }
   ],
   "source": [
    "plt.figure(figsize=(10,5))\n",
    "\n",
    "mercosul_dados = reamostrar_varias_vezes(df_mercosul['2020'],100,100)\n",
    "mercosul_p = mercosul_dados[0]\n",
    "mercosul_low = mercosul_dados[1]\n",
    "mercosul_high = mercosul_dados[2]\n",
    "\n",
    "eu_dados = reamostrar_varias_vezes(df_eu['2020'],100,100)\n",
    "eu_p = eu_dados[0]\n",
    "eu_low = eu_dados[1]\n",
    "eu_high = eu_dados[2]\n",
    "\n",
    "plt.bar(['Mercosul', 'UE'], [mercosul_p, eu_p], yerr=[mercosul_high-mercosul_low, eu_high-eu_low], capsize=10)\n",
    "plt.title('Probabilidade de um país ser avançado dado que é do MERCOSUL ou da UE')\n",
    "plt.ylabel('Probabilidade')\n",
    "plt.show()"
   ]
  },
  {
   "cell_type": "markdown",
   "metadata": {},
   "source": [
    "Observando a figura, não há sobreposição do intervalo de confiança de nenhum dos blocos."
   ]
  }
 ],
 "metadata": {
  "kernelspec": {
   "display_name": "Python 3.10.8 64-bit (microsoft store)",
   "language": "python",
   "name": "python3"
  },
  "language_info": {
   "codemirror_mode": {
    "name": "ipython",
    "version": 3
   },
   "file_extension": ".py",
   "mimetype": "text/x-python",
   "name": "python",
   "nbconvert_exporter": "python",
   "pygments_lexer": "ipython3",
   "version": "3.10.8"
  },
  "orig_nbformat": 4,
  "vscode": {
   "interpreter": {
    "hash": "a8c838542c43d13d6fb1e17acd4e560fbc2695aad8c2b10825f20c6b73017b6f"
   }
  }
 },
 "nbformat": 4,
 "nbformat_minor": 2
}
