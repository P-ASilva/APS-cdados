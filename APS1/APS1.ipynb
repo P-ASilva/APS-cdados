{
 "cells": [
  {
   "cell_type": "code",
   "execution_count": null,
   "metadata": {},
   "outputs": [],
   "source": [
    "import pandas as pd\n",
    "import matplotlib.pyplot as plt\n",
    "import seaborn as sns\n",
    "\n",
    "pd.set_option('display.max_columns', None)\n",
    "\n",
    "df = pd.read_csv('GfSD\\SDGData.csv', sep=',',decimal='.', skiprows=0)\n",
    "df_list = []\n",
    "\n",
    "\n",
    "df_  = df.iloc[[102347]] # Estados Unidos\n",
    "df_list.append(df_)\n",
    "df_ = df.iloc[[41147]] # República Dominicana\n",
    "df_list.append(df_)\n",
    "df_ = df.iloc[[28907]] # Brasil\n",
    "df_list.append(df_)\n",
    "\n",
    "plt.style.use('default')\n",
    "plt.figure()\n",
    "for df in df_list:\n",
    "    years = []\n",
    "    values = []\n",
    "    for year in range(2001,2021):\n",
    "        year_ = str(year)\n",
    "        dado_invalido = pd.isnull(df[year_])\n",
    "        df.loc[dado_invalido, year_] = 0\n",
    "        if year == 2010:\n",
    "            df.loc[dado_invalido, year_] = (df[str(year-1)] + df[str(year+1)])/2\n",
    "        if year >= 1994:\n",
    "            years.append(year)\n",
    "            values.append(df[year_])\n",
    "    plt.plot(years,values)\n",
    "\n",
    "plt.xticks(years, rotation=45)\n",
    "plt.xlabel('Anos')\n",
    "plt.ylabel('Porcentagem da população do país')\n",
    "plt.title('População jovem sem educação, emprego ou treinamento, entre países selecionados (%)')\n",
    "plt.legend(['Estados Unidos','República Dominicana', 'Brasil'])\n",
    "plt.grid()\n",
    "plt.show()"
   ]
  },
  {
   "cell_type": "markdown",
   "metadata": {},
   "source": [
    "O objetivo escolhido foi o objetivo 4: Educação de Qualidade, o qual visa garantir educação de qualidade, inclusiva e equitativa, e promover oportunidades de aprendizado vitalícias para todos. É um objetivo importante de se mensurar, considerando a importância da educação em todos os  processos cruciais da população local. Educação de qualidade garante que indivíduos saibam cumprir suas funções na sociedade com eficácia, trabalhem para que haja melhor desenvolvimento e indiretamente reduz os níveis de criminalidade.\n",
    "\n",
    "Quanto ao marcador, escolhemos a porcentagem da população jovem sem acesso a educação, emprego ou treinamento. A escolha foi feita baseada não somente na importância de se mensurar tal parâmetro para nosso propósito, considerando que é um bom indicador direto do nível de educação, mas também por fornecer base para especulações sobre o futuro da localidade.\n",
    "\n",
    "A escolha do marcador faz sentido pelo fato de a porcentagem direta de acesso a educação explicar bem os níveis de educação de qualidade ou sua falta. Além disso, fatorando emprego nos dados, isso garante mais eficácia, sabendo que índices de emprego e educação se correlacionam rigorosamente. Por fim, ao filtrarmos aqueles que não estão recebendo treinamento, conseguimos definir uma parcela da população vulnerável a crises de modo geral.\n",
    "\n",
    "Analisando o gráfico, é possível perceber um aumento drástico no ano de 2020 em todos os países. Isso se trata de uma consequência direta da pandemia do vírus COVID-19, a qual gerou uma crise e causou uma queda em educação de qualidade mundialmente durante o período. Além disso, percebe-se uma clara diferença entre os países subdesenvolvidos e os Estados Unidos no quesito. Isso é de se esperar, considerando as diferenças socioeconômicas.\n",
    "\n",
    "Quanto à relação entre o Brasil e a República Dominicana, é possível observar algo interessante: os dois possuem índices parecidos entre quase todos os anos mensurados. No entanto, no ano de 2020, a República Dominicana foi afetada mais extremamente que o Brasil. Isso demonstra que apesar de as duas nações serem tão similares em índices de educação, o Brasil possui uma capacidade muito melhor de preservá-los em caso de crise, o que se mostra certamente diferente na República Dominicana.\n",
    "\n",
    "Observação final: para o ano de 2010 no Brasil, havia falta de dados. Para evitar que o gráfico fosse afetado visualmente, para tal ano foi feito data amputation, ou seja, os dados foram editados para propósitos de demonstração. O dado usado no gráfico foi obtido por meio de uma média entre os valores de 2009 e 2011, criando assim uma linha passível para o ano.\n"
   ]
  }
 ],
 "metadata": {
  "kernelspec": {
   "display_name": "Python 3.10.3 64-bit",
   "language": "python",
   "name": "python3"
  },
  "language_info": {
   "codemirror_mode": {
    "name": "ipython",
    "version": 3
   },
   "file_extension": ".py",
   "mimetype": "text/x-python",
   "name": "python",
   "nbconvert_exporter": "python",
   "pygments_lexer": "ipython3",
   "version": "3.10.3"
  },
  "orig_nbformat": 4,
  "vscode": {
   "interpreter": {
    "hash": "f93bff822687b96a1f2d7798e86ce2bae52c1bd6ece06dfb8c6e65b6bce06fb2"
   }
  }
 },
 "nbformat": 4,
 "nbformat_minor": 2
}
