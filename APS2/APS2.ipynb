{
 "cells": [
  {
   "cell_type": "code",
   "execution_count": null,
   "metadata": {},
   "outputs": [],
   "source": [
    "import pandas as pd\n",
    "import matplotlib.pyplot as plt\n",
    "import seaborn as sns\n",
    "import numpy as np"
   ]
  },
  {
   "cell_type": "code",
   "execution_count": null,
   "metadata": {},
   "outputs": [],
   "source": [
    "pd.set_option('display.max_columns', None)\n",
    "df = pd.read_csv('GfSD\\SDGData.csv', sep=',',decimal='.', skiprows=0)"
   ]
  },
  {
   "cell_type": "code",
   "execution_count": null,
   "metadata": {},
   "outputs": [],
   "source": [
    "df_list = []\n",
    "df_list2 = []\n",
    "years = []\n",
    "for year in range(2001,2021):\n",
    "    years.append(str(year))"
   ]
  },
  {
   "cell_type": "code",
   "execution_count": null,
   "metadata": {},
   "outputs": [],
   "source": [
    "# População jovem sem educação, emprego ou treinamento, entre países selecionados (%)\n",
    "df_  = df.iloc[[102347]]\n",
    "df__  = df.iloc[[102347,102176]] # Estados Unidos\n",
    "df_list.append(df_)\n",
    "eua = df__[years + ['Indicator Name']]\n",
    "eua = eua.set_index(\"Indicator Name\") # apply right away\n",
    "eua = eua.transpose()\n"
   ]
  },
  {
   "cell_type": "code",
   "execution_count": null,
   "metadata": {},
   "outputs": [],
   "source": [
    "df_ = df.iloc[[21157]]\n",
    "df__ = df.iloc[[21155,20984]] # Argentina\n",
    "df_list.append(df_)\n",
    "ar = df__[years + ['Indicator Name']]\n",
    "ar = ar.set_index(\"Indicator Name\") # apply right away\n",
    "ar = ar.transpose()"
   ]
  },
  {
   "cell_type": "code",
   "execution_count": null,
   "metadata": {},
   "outputs": [],
   "source": [
    "df_ = df.iloc[[28907]]\n",
    "df__ = df.iloc[[28907,28736]] # Brasil\n",
    "df_list.append(df_)\n",
    "br = df__[years + ['Indicator Name']]\n",
    "br = br.set_index(\"Indicator Name\") # apply right away\n",
    "br = br.transpose()"
   ]
  },
  {
   "cell_type": "code",
   "execution_count": null,
   "metadata": {},
   "outputs": [],
   "source": [
    "# Indivíduos usando a Internet (% da população)\n",
    "\n",
    "df_  = df.iloc[[102176]] # Estados Unidos\n",
    "df_list2.append(df_)\n",
    "df_  = df.iloc[[20984]] # Argentina\n",
    "df_list2.append(df_)\n",
    "df_ = df.iloc[[28736]] # Brasil\n",
    "df_list2.append(df_)"
   ]
  },
  {
   "cell_type": "markdown",
   "metadata": {},
   "source": [
    "Muitas vezes observamos propagandas e veiculos de mídia resaltando o impacto positivo da internet na disseminação de oportunidades ao aumento no acesso a formas de capacitação. Porém, nossa dupla se perguntou : Tal relação realmente existe?\n",
    "\n",
    "-   Observemos o gráfico a seguir sob a seguinte hipótese : O aumento no uso da internet beneficia o preparo da população jovem."
   ]
  },
  {
   "cell_type": "code",
   "execution_count": null,
   "metadata": {},
   "outputs": [],
   "source": [
    "plt.style.use('default')\n",
    "plt.figure()\n",
    "\n",
    "color_list = ['b','r','g']\n",
    "color = 0\n",
    "\n",
    "for df in df_list:\n",
    "    years = []\n",
    "    values = []\n",
    "    for year in range(2004,2021):\n",
    "        year_ = str(year)\n",
    "        dado_invalido = pd.isnull(df[year_])\n",
    "        df.loc[dado_invalido, year_] = 0\n",
    "        if year == 2010:\n",
    "            df.loc[dado_invalido, year_] = (df[str(year-1)] + df[str(year+1)])/2\n",
    "        if year >= 1994:\n",
    "            years.append(year)\n",
    "            values.append(df[year_])\n",
    "    \n",
    "    plt.plot(years,values,f'{color_list[color]}')\n",
    "    color += 1\n",
    "color = 0\n",
    "for df in df_list2:\n",
    "    years = []\n",
    "    values = []\n",
    "    for year in range(2004,2021):\n",
    "        year_ = str(year)\n",
    "        dado_invalido = pd.isnull(df[year_])\n",
    "        df.loc[dado_invalido, year_] = 0\n",
    "        if year == 2010:\n",
    "            df.loc[dado_invalido, year_] = (df[str(year-1)] + df[str(year+1)])/2\n",
    "        if year >= 1994:\n",
    "            years.append(year)\n",
    "            values.append(df[year_])\n",
    "    \n",
    "    plt.plot(years,values,f'{color_list[color]}:')\n",
    "    color += 1\n",
    "\n",
    "plt.xticks(years, rotation=45)\n",
    "plt.yticks([0, 20, 40, 60, 80, 100])\n",
    "plt.xlabel('Anos')\n",
    "plt.ylabel('Porcentagem da população do país')\n",
    "plt.title('População jovem sem preparo X Uso da internet (%)')\n",
    "plt.legend(['Estados Unidos','Argentina', 'Brasil','Estados Unidos (Internet)','Argentina (Internet)', 'Brasil (Internet)'],bbox_to_anchor=(1.05, 1), loc='upper left', borderaxespad=0)\n",
    "plt.grid()\n",
    "plt.show()"
   ]
  },
  {
   "cell_type": "markdown",
   "metadata": {},
   "source": [
    "Com base na informação do gráfico e dos resultados obtidos referentes a correlação e a covariância, encontramos uma similaridade inesperada somada a uma contradiação com o gráfico: \n",
    "\n",
    "    - A correlação e covariância entre os dados da Argentina e dos EUA são ambas negativas, porém suas tendêcias de crescimento/decrescimento e média percentual divergem muito.\n",
    "\n",
    "    - Os indices do Brasil são ambos positivos, apesar dele estar entre os EUA e a Argentina em termos de despreparo e ter menor acesso a internet que a Argentina.\n",
    "\n",
    "- Tais dados indicam, no minimo, que covariância e correlação não demonstram a relação entre os dados, sendo que haveria um padrão tal fosse o caso e o Brasil teria indices diferentes.\n",
    "\n",
    "- Ademais, observei que o acesso a internet cresceu muito neste período, porém o indíce de despreparo entre jovens variou de forma autonôma na Argentina.\n",
    "\n",
    "- Este fato nos demostra de forma visível que a nossa hipótese se provou falha, visto que elimina possíveis especulações quanto a uma relação pequena entre os dados, que poderia ter sido levantada caso tivéssemos análisado somente os dados dos EUA e do Brasil, ou não tivéssemos as divergência matemáticas de correlação/covariância."
   ]
  },
  {
   "cell_type": "markdown",
   "metadata": {},
   "source": [
    "Mudanças devido ao Feedback da entrega anterior : \n",
    "\n",
    "    - Troca do database da Republica Dominicana pelo da Argentina, visto que se assemelhava muito a do Brasil."
   ]
  },
  {
   "cell_type": "markdown",
   "metadata": {},
   "source": [
    "Correlação entre os dados no gráfico :"
   ]
  },
  {
   "cell_type": "code",
   "execution_count": null,
   "metadata": {},
   "outputs": [],
   "source": [
    "br.corr() # Correlação no Brasil"
   ]
  },
  {
   "cell_type": "code",
   "execution_count": null,
   "metadata": {},
   "outputs": [],
   "source": [
    "eua.corr() # Correlação nos EUA"
   ]
  },
  {
   "cell_type": "code",
   "execution_count": null,
   "metadata": {},
   "outputs": [],
   "source": [
    "ar.corr() # Correlação na Argentina"
   ]
  },
  {
   "cell_type": "markdown",
   "metadata": {},
   "source": [
    "Covariância entre os dados no gráfico :"
   ]
  },
  {
   "cell_type": "code",
   "execution_count": null,
   "metadata": {},
   "outputs": [],
   "source": [
    "br.cov() # Covariância no Brasil"
   ]
  },
  {
   "cell_type": "code",
   "execution_count": null,
   "metadata": {},
   "outputs": [],
   "source": [
    "eua.cov() # Covariância nos EUA"
   ]
  },
  {
   "cell_type": "code",
   "execution_count": null,
   "metadata": {},
   "outputs": [],
   "source": [
    "ar.cov() # Covariância na Argentina"
   ]
  }
 ],
 "metadata": {
  "kernelspec": {
   "display_name": "Python 3.10.3 64-bit (system)",
   "language": "python",
   "name": "python3"
  },
  "language_info": {
   "codemirror_mode": {
    "name": "ipython",
    "version": 3
   },
   "file_extension": ".py",
   "mimetype": "text/x-python",
   "name": "python",
   "nbconvert_exporter": "python",
   "pygments_lexer": "ipython3",
   "version": "3.10.3"
  },
  "orig_nbformat": 4,
  "vscode": {
   "interpreter": {
    "hash": "f93bff822687b96a1f2d7798e86ce2bae52c1bd6ece06dfb8c6e65b6bce06fb2"
   }
  }
 },
 "nbformat": 4,
 "nbformat_minor": 2
}
