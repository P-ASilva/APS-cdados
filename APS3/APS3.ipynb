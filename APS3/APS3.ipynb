{
 "cells": [
  {
   "cell_type": "markdown",
   "metadata": {},
   "source": [
    "Escolhemos o Mercosul e a União Europeia para realizar a APS3. [falar que o texto ta distribuido]"
   ]
  },
  {
   "cell_type": "markdown",
   "metadata": {},
   "source": [
    "# Questão 1\n",
    "\n",
    "O Mercosul foi criado em 1991, do qual inicialmente faziam parte somente Argentina, Brasil, Paraguai e Uruguai. Seu objetivo era de aumentar a oferta de emprego, intensificar relações econômicas e melhorar produtividade.\n",
    "Para realizar tal feito, sua meta era fazer uma TEC (Tarifa Externa Comum), para assim criar um imposto único a todos os produtos importados, e portanto uma união aduaneira.\n",
    "\n",
    "A União Européia foi criada em 1993, da qual inicialmente faziam parte somente Alemanha, Bélgica, Dinamarca, Espanha, França, Grécia, Irlanda, Itália, Luxemburgo, Países Baixos, Portugal, Reino Unido e Suécia.\n",
    "Esses países se uniram com o objetivo de promover a paz, a prosperidade e a liberdade, e também para criar um mercado comum interno, com livre circulação de mercadorias, serviços, capitais e pessoas, além de promover coesão geral do território europeu, e ainda uma união monetária para facilitar relações comerciais."
   ]
  },
  {
   "cell_type": "markdown",
   "metadata": {},
   "source": [
    "# Questão 2"
   ]
  },
  {
   "cell_type": "code",
   "execution_count": 70,
   "metadata": {},
   "outputs": [],
   "source": [
    "# Imports\n",
    "\n",
    "import pandas as pd\n",
    "import matplotlib.pyplot as plt\n",
    "import seaborn as sns\n",
    "import numpy as np\n",
    "import math"
   ]
  },
  {
   "cell_type": "code",
   "execution_count": 71,
   "metadata": {},
   "outputs": [],
   "source": [
    "# Inicialização e preparação dos dados para manipulação\n",
    "pd.set_option('display.max_columns', None)\n",
    "df = pd.read_csv('GfSD\\SDGData.csv', sep=',',decimal='.', skiprows=0)\n",
    "df = df.set_index('Indicator Name')\n",
    "\n",
    "# Indicador escolhido nas entregas anteriores\n",
    "df = df.loc['Share of youth not in education, employment or training, total (% of youth population)']\n",
    "\n",
    "# Preparação dos anos, e países por bloco\n",
    "years = [str(i) for i in range(2000,2021)]\n",
    "country_names = {\n",
    "    'MERCOSUL' : ['Brazil','Argentina','Paraguay','Uruguay','Venezuela, RB','Chile','Peru','Colombia','Ecuador','Guyana','Suriname'] ,\n",
    "    'UE' : ['Austria', 'Belgium', 'Croatia', 'Cyprus', 'Czech Republic', 'Denmark', 'Estonia', 'Finland', 'France', 'Germany', 'Greece', 'Hungary', 'Ireland', 'Italy', 'Latvia', 'Lithuania', 'Luxembourg', 'Malta', 'Netherlands', 'Poland', 'Portugal', 'Romania', 'Slovak Republic', 'Slovenia', 'Spain', 'Sweden'],\n",
    "}"
   ]
  },
  {
   "cell_type": "code",
   "execution_count": 72,
   "metadata": {},
   "outputs": [],
   "source": [
    "# Tratando e dividindo o dataset\n",
    "\n",
    "df = df.set_index('Country Name')\n",
    "\n",
    "df_mercosul = df.loc[country_names['MERCOSUL']]\n",
    "df_eu = df.loc[country_names['UE']]"
   ]
  },
  {
   "cell_type": "code",
   "execution_count": 73,
   "metadata": {},
   "outputs": [],
   "source": [
    "# Determinando um critério por meio do cálculo de uma distribuição normal para cada país\n",
    "\n",
    "# Escolhemos o ano de 2020 por ser o mais próximo do ano atual (2022)\n",
    "mean = df['2020'].mean()\n",
    "std = df['2020'].std()\n",
    "\n",
    "z = (df['2020'] - mean)/std\n",
    "w = 2\n",
    "filtro = (z < w) * (z > -w)\n",
    "x = df['2020'][filtro]"
   ]
  },
  {
   "cell_type": "code",
   "execution_count": 74,
   "metadata": {},
   "outputs": [
    {
     "data": {
      "image/png": "[encoded data removed]",
      "text/plain": [
       "<Figure size 640x480 with 1 Axes>"
      ]
     },
     "metadata": {},
     "output_type": "display_data"
    }
   ],
   "source": [
    "# Plotando um gráfico para visualização dos dados\n",
    "plt.figure()\n",
    "plt.hist(x)\n",
    "plt.show()"
   ]
  },
  {
   "cell_type": "markdown",
   "metadata": {},
   "source": [
    "De acordo com os resultados obtidos, constatamos que para o ano de 2020, não há grandes disparidades na amostra que estamos analisando, permitindo que adotemos a média como critério de classificação entre países 'avançados' e 'atrasados'."
   ]
  },
  {
   "cell_type": "code",
   "execution_count": 75,
   "metadata": {},
   "outputs": [],
   "source": [
    "# Definindo o critério por código\n",
    "criterio_avancado_mundial = z < z.mean()\n",
    "criterio_atrasado_mundial = z >= z.mean()\n",
    "\n",
    "# Probabilidades de cada bloco ser avançado ou atrasado de acordo com o critério mundial\n",
    "P_avancado_mundial = criterio_avancado_mundial.value_counts()[True]/criterio_avancado_mundial.value_counts().sum()\n",
    "P_atrasado_mundial = criterio_avancado_mundial.value_counts()[True]/criterio_avancado_mundial.value_counts().sum()\n"
   ]
  },
  {
   "cell_type": "code",
   "execution_count": 76,
   "metadata": {},
   "outputs": [],
   "source": [
    "# Além de calcular esse critério para o mundo, vamos calcular para cada bloco. Isso será usado nas questões posteriores\n",
    "\n",
    "\n",
    "# MERCOSUL\n",
    "mean = df_mercosul['2020'].mean()\n",
    "std = df_mercosul['2020'].std()\n",
    "\n",
    "z = (df_mercosul['2020'] - mean)/std\n",
    "w = 2\n",
    "filtro = z < w\n",
    "x = df_mercosul['2020'][filtro]\n",
    "filtro = z > -w\n",
    "x = x[filtro]\n",
    "\n",
    "criterio_avancado_mercosul = z < z.mean()\n",
    "criterio_atrasado_mercosul = z >= z.mean()\n",
    "\n",
    "\n",
    "# UE\n",
    "mean = df_eu['2020'].mean()\n",
    "std = df_eu['2020'].std()\n",
    "\n",
    "z = (df_eu['2020'] - mean)/std\n",
    "w = 2\n",
    "filtro = z < w\n",
    "x = df_eu['2020'][filtro]\n",
    "filtro = z > -w\n",
    "x = x[filtro]\n",
    "\n",
    "criterio_avancado_eu = z < z.mean()\n",
    "criterio_atrasado_eu = z >= z.mean()"
   ]
  },
  {
   "cell_type": "markdown",
   "metadata": {},
   "source": [
    "Lista dos países de cada bloco com suas respectivas classificações (True = avançado, False = atrasado; vale lembrar que nosso indicador é mais favorável quanto mais baixo seu valor for):"
   ]
  },
  {
   "cell_type": "code",
   "execution_count": 77,
   "metadata": {},
   "outputs": [
    {
     "data": {
      "text/plain": [
       "Country Name\n",
       "Brazil           False\n",
       "Argentina         True\n",
       "Paraguay         False\n",
       "Uruguay          False\n",
       "Venezuela, RB    False\n",
       "Chile             True\n",
       "Peru             False\n",
       "Colombia         False\n",
       "Ecuador          False\n",
       "Guyana           False\n",
       "Suriname         False\n",
       "Name: 2020, dtype: bool"
      ]
     },
     "execution_count": 77,
     "metadata": {},
     "output_type": "execute_result"
    }
   ],
   "source": [
    "criterio_avancado_mercosul"
   ]
  },
  {
   "cell_type": "code",
   "execution_count": 78,
   "metadata": {},
   "outputs": [
    {
     "data": {
      "text/plain": [
       "Country Name\n",
       "Austria             True\n",
       "Belgium             True\n",
       "Croatia            False\n",
       "Cyprus             False\n",
       "Czech Republic      True\n",
       "Denmark             True\n",
       "Estonia             True\n",
       "Finland             True\n",
       "France             False\n",
       "Germany             True\n",
       "Greece             False\n",
       "Hungary            False\n",
       "Ireland            False\n",
       "Italy              False\n",
       "Latvia              True\n",
       "Lithuania          False\n",
       "Luxembourg          True\n",
       "Malta               True\n",
       "Netherlands         True\n",
       "Poland              True\n",
       "Portugal            True\n",
       "Romania            False\n",
       "Slovak Republic    False\n",
       "Slovenia            True\n",
       "Spain              False\n",
       "Sweden              True\n",
       "Name: 2020, dtype: bool"
      ]
     },
     "execution_count": 78,
     "metadata": {},
     "output_type": "execute_result"
    }
   ],
   "source": [
    "criterio_avancado_eu"
   ]
  },
  {
   "cell_type": "markdown",
   "metadata": {},
   "source": [
    "# Questão 3"
   ]
  },
  {
   "cell_type": "code",
   "execution_count": 79,
   "metadata": {},
   "outputs": [
    {
     "name": "stdout",
     "output_type": "stream",
     "text": [
      "A probabilidade de um país do MERCOSUL ser avançado é de 18.18%.\n",
      "A probabilidade de um país da UE ser avançado é de 57.69%.\n"
     ]
    }
   ],
   "source": [
    "P_avancado_eu = criterio_avancado_eu.value_counts()[True]/criterio_avancado_eu.value_counts().sum()\n",
    "P_avancado_mercosul = criterio_avancado_mercosul.value_counts()[True]/criterio_avancado_mercosul.value_counts().sum()\n",
    "\n",
    "print('A probabilidade de um país do MERCOSUL ser avançado é de {:.2f}%.'.format(P_avancado_mercosul*100))\n",
    "print('A probabilidade de um país da UE ser avançado é de {:.2f}%.'.format(P_avancado_eu*100))"
   ]
  },
  {
   "cell_type": "markdown",
   "metadata": {},
   "source": [
    "# Questão 4"
   ]
  },
  {
   "cell_type": "code",
   "execution_count": 80,
   "metadata": {},
   "outputs": [
    {
     "name": "stdout",
     "output_type": "stream",
     "text": [
      "A probabilidade de um país ser do MERCOSUL dado que é avançado é de 3.92%.\n",
      "A probabilidade de um país ser da UE dado que é avançado é de 29.41%.\n"
     ]
    }
   ],
   "source": [
    "# Teorema de Bayes: P(B|A) = (P(A|B) * P(B)) / P(A)\n",
    "\n",
    "# Temos todas essas probabilidades menos P(A), então vamos calcular P(A) para cada bloco\n",
    "\n",
    "P_bloco_mercosul = len(country_names['MERCOSUL'])/criterio_avancado_mundial.value_counts().sum()\n",
    "P_bloco_eu = len(country_names['UE'])/criterio_avancado_mundial.value_counts().sum()\n",
    "\n",
    "# Agora podemos calcular P(B|A) para cada bloco\n",
    "\n",
    "P_mercosul_avancado = (P_avancado_mercosul*P_bloco_mercosul) / P_avancado_mundial\n",
    "P_eu_avancado = (P_avancado_eu*P_bloco_eu) / P_avancado_mundial\n",
    "\n",
    "print('A probabilidade de um país ser do MERCOSUL dado que é avançado é de {:.2f}%.'.format(P_mercosul_avancado*100))\n",
    "print('A probabilidade de um país ser da UE dado que é avançado é de {:.2f}%.'.format(P_eu_avancado*100))"
   ]
  },
  {
   "cell_type": "markdown",
   "metadata": {},
   "source": [
    "# Questão 5"
   ]
  },
  {
   "cell_type": "code",
   "execution_count": 81,
   "metadata": {},
   "outputs": [
    {
     "name": "stdout",
     "output_type": "stream",
     "text": [
      "A probabilidade de um país ser do MERCOSUL ou da UE dado que é avançado é de 16.67%.\n",
      "MERCOSUL\n",
      "UE\n",
      "MERCOSUL\n",
      "UE\n"
     ]
    }
   ],
   "source": [
    "# Vamos calcular uma probabilidade mais generalizada entre o MERCOSUL e a UE, por motivos de comparação\n",
    "\n",
    "# Usaremos as probabilidades da Questão 4 e calcular uma média entre elas\n",
    "\n",
    "P_media_blocos_avancado = (P_mercosul_avancado + P_eu_avancado)/2\n",
    "\n",
    "print('A probabilidade de um país ser do MERCOSUL ou da UE dado que é avançado é de {:.2f}%.'.format(P_media_blocos_avancado*100))\n",
    "\n",
    "# Com esse dado, podemos criar uma função que retorna qual bloco o país pertence de acordo com o critério e se é maior ou menos que a probabilidade acima.\n",
    "\n",
    "# A função vai assumir que o país é do MERCOSUL se for maior que a probabilidade e da UE se for menor\n",
    "\n",
    "# Se não há dados para 2020, a função usa os dados do ano mais próximo\n",
    "\n",
    "def identifica_bloco(pais):\n",
    "    year = '2020'\n",
    "    dado_pais = df.loc[pais][year] / 100 # (passar para decimal, já que os dados estão em porcentagem)\n",
    "\n",
    "    while math.isnan(dado_pais):\n",
    "      year = str(int(year)-1)\n",
    "      dado_pais = df.loc[pais][year] / 100\n",
    "      if year == '1990':\n",
    "        return 'Não há dados para esse país.'\n",
    "\n",
    "    if dado_pais > P_media_blocos_avancado:\n",
    "      return 'MERCOSUL'\n",
    "    else:\n",
    "      return 'UE'\n",
    "\n",
    "# Testando a função\n",
    "\n",
    "# Testando com um país do MERCOSUL\n",
    "print(identifica_bloco('Brazil'))\n",
    "\n",
    "# Testando com um país da UE\n",
    "print(identifica_bloco('Germany'))\n",
    "\n",
    "# Testando com outros países\n",
    "print(identifica_bloco('Haiti'))\n",
    "print(identifica_bloco('United States'))"
   ]
  },
  {
   "cell_type": "markdown",
   "metadata": {},
   "source": [
    "# Questão 6\n",
    "\n",
    "O indicador escolhido ('Share of youth not in education, employment or training, total (% of youth population)') pode ser considerado um bom preditor para o bloco econômico, entre o MERCOSUL e a União Europeia. Os dados tratatados e probabilidades são coerentes e eficientes na questão de generalização, e os testes que foram feitos com a predição de países que estão de fato presentes nos blocos, foram bem sucedidos, batendo com a realidade."
   ]
  }
 ],
 "metadata": {
  "kernelspec": {
   "display_name": "Python 3.10.8 64-bit (microsoft store)",
   "language": "python",
   "name": "python3"
  },
  "language_info": {
   "codemirror_mode": {
    "name": "ipython",
    "version": 3
   },
   "file_extension": ".py",
   "mimetype": "text/x-python",
   "name": "python",
   "nbconvert_exporter": "python",
   "pygments_lexer": "ipython3",
   "version": "3.10.8"
  },
  "orig_nbformat": 4,
  "vscode": {
   "interpreter": {
    "hash": "a8c838542c43d13d6fb1e17acd4e560fbc2695aad8c2b10825f20c6b73017b6f"
   }
  }
 },
 "nbformat": 4,
 "nbformat_minor": 2
}
