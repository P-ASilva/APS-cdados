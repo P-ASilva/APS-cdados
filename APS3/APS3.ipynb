{
 "cells": [
  {
   "cell_type": "code",
   "execution_count": 1,
   "metadata": {},
   "outputs": [],
   "source": [
    "# Imports.\n",
    "\n",
    "import pandas as pd\n",
    "import matplotlib.pyplot as plt\n",
    "import seaborn as sns\n",
    "import numpy as np"
   ]
  },
  {
   "cell_type": "code",
   "execution_count": 39,
   "metadata": {},
   "outputs": [],
   "source": [
    "# Initialize.\n",
    "\n",
    "pd.set_option('display.max_columns', None)\n",
    "df = pd.read_csv('GfSD\\SDGData.csv', sep=',',decimal='.', skiprows=0)"
   ]
  },
  {
   "cell_type": "code",
   "execution_count": 40,
   "metadata": {},
   "outputs": [
    {
     "data": {
      "text/plain": [
       "Country Code                    ZWE\n",
       "Indicator Code    EG.ELC.ACCS.RU.ZS\n",
       "1990                            NaN\n",
       "1991                            NaN\n",
       "1992                        3.06407\n",
       "1993                       6.811378\n",
       "1994                       4.233107\n",
       "1995                       7.021267\n",
       "1996                       7.125636\n",
       "1997                       7.231358\n",
       "1998                       7.338139\n",
       "1999                       13.88493\n",
       "2000                       7.272541\n",
       "2001                       7.601021\n",
       "2002                       7.181255\n",
       "2003                       8.845042\n",
       "2004                        9.84671\n",
       "2005                      10.830471\n",
       "2006                       9.370756\n",
       "2007                      12.757231\n",
       "2008                      13.713601\n",
       "2009                       19.57489\n",
       "2010                       15.64668\n",
       "2011                      14.080046\n",
       "2012                      23.746748\n",
       "2013                      18.698282\n",
       "2014                       7.691812\n",
       "2015                      10.949314\n",
       "2016                      22.087053\n",
       "2017                      24.531088\n",
       "2018                      26.617121\n",
       "2019                      28.404877\n",
       "2020                      37.060249\n",
       "Unnamed: 35                     NaN\n",
       "Name: Access to electricity, rural (% of rural population), dtype: object"
      ]
     },
     "execution_count": 40,
     "metadata": {},
     "output_type": "execute_result"
    }
   ],
   "source": [
    "# Tratando o DB.\n",
    "\n",
    "df = df.set_index('Country Name')\n",
    "df = df.loc[\"Zimbabwe\"]\n",
    "df = df.set_index(\"Indicator Name\")\n",
    "df.loc[\"Access to electricity, rural (% of rural population)\"]"
   ]
  },
  {
   "cell_type": "code",
   "execution_count": null,
   "metadata": {},
   "outputs": [],
   "source": [
    "# Preprando Dados."
   ]
  },
  {
   "cell_type": "code",
   "execution_count": null,
   "metadata": {},
   "outputs": [],
   "source": [
    "# Plotando o Gráfico."
   ]
  },
  {
   "cell_type": "markdown",
   "metadata": {},
   "source": [
    "Escolhemos BRICS e OPEP\n",
    "\n",
    "O BRICS foi criado visando o crescimento mútuo dos países emergentes/subdesemvolvidos envolvidos.\n",
    "\n",
    "A OPEP surgiu da necessidade de se estabelecer uma política comum em relação ao petróleo entre seus grandes produtores.\n",
    "Aberturas: Atua diretamente com cotas máximas de barris de petróleo por dia. Tal ação é para evitar/amenizar crises econômicas e competião desleal, com superprodução, escassez ou preços muito divergentes do produto."
   ]
  }
 ],
 "metadata": {
  "kernelspec": {
   "display_name": "Python 3.10.3 64-bit",
   "language": "python",
   "name": "python3"
  },
  "language_info": {
   "codemirror_mode": {
    "name": "ipython",
    "version": 3
   },
   "file_extension": ".py",
   "mimetype": "text/x-python",
   "name": "python",
   "nbconvert_exporter": "python",
   "pygments_lexer": "ipython3",
   "version": "3.10.3"
  },
  "orig_nbformat": 4,
  "vscode": {
   "interpreter": {
    "hash": "f93bff822687b96a1f2d7798e86ce2bae52c1bd6ece06dfb8c6e65b6bce06fb2"
   }
  }
 },
 "nbformat": 4,
 "nbformat_minor": 2
}
