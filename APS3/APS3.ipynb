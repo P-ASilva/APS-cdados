{
 "cells": [
  {
   "cell_type": "code",
   "execution_count": null,
   "metadata": {},
   "outputs": [],
   "source": [
    "# Imports.\n",
    "\n",
    "import pandas as pd\n",
    "import matplotlib.pyplot as plt\n",
    "import seaborn as sns\n",
    "import numpy as np"
   ]
  },
  {
   "cell_type": "code",
   "execution_count": null,
   "metadata": {},
   "outputs": [],
   "source": [
    "# Initialize.\n",
    "\n",
    "pd.set_option('display.max_columns', None)\n",
    "df = pd.read_csv('GfSD\\SDGData.csv', sep=',',decimal='.', skiprows=0)\n",
    "\n",
    "years = [str(i) for i in range(1990,2021)]\n",
    "country_names = {\n",
    "    'MERCOSUL' : ['Brazil','Argentina','Paraguay','Uruguay','Venezuela, RB','Chile','Peru','Colombia','Ecuador','Guyana','Suriname'] ,\n",
    "    'UE' : ['Germany','Belgium''France','Italy','Luxembourg','Netherlands']\n",
    "}"
   ]
  },
  {
   "cell_type": "code",
   "execution_count": null,
   "metadata": {},
   "outputs": [],
   "source": [
    "# Tratando e dividindo a DataBase.\n",
    "\n",
    "df = df.set_index('Country Name')\n",
    "\n",
    "# Não aplica as mudanças com um For, nem tenta. \n",
    "\n",
    "df_mercosul = df.loc[['Brazil','Argentina','Paraguay','Uruguay','Venezuela, RB','Chile','Peru','Colombia','Ecuador','Guyana','Suriname']]\n",
    "df_mercosul = df_mercosul.set_index('Indicator Name')\n",
    "df_mercosul = df_mercosul.loc['Share of youth not in education, employment or training, total (% of youth population)']\n",
    "\n",
    "df_eu = df.loc[['Germany','Belgium','France','Italy','Luxembourg','Netherlands']]\n",
    "df_eu = df_eu.set_index('Indicator Name')\n",
    "df_eu = df_eu.loc['Share of youth not in education, employment or training, total (% of youth population)']"
   ]
  },
  {
   "cell_type": "code",
   "execution_count": null,
   "metadata": {},
   "outputs": [],
   "source": [
    "# Tratando dados.\n",
    "#plotar grafico de barra da média anual do indicador para cada país do mercosul\n",
    "\n"
   ]
  },
  {
   "cell_type": "code",
   "execution_count": null,
   "metadata": {},
   "outputs": [],
   "source": [
    "# Trabalhar dados. (Contas e etc)\n",
    "df_mercosul['2013']"
   ]
  },
  {
   "cell_type": "code",
   "execution_count": null,
   "metadata": {},
   "outputs": [],
   "source": [
    "# Plotando o Gráfico."
   ]
  },
  {
   "cell_type": "markdown",
   "metadata": {},
   "source": [
    "1. Motivos de criação:\n",
    "\n",
    "- Mercosul: 1991, com o objetivo de aumentar a oferta de emprego, intensificar relações econômicas e melhorar produtividade. Inicialmente faziam parte somente Argentina, Brasil, Paraguai e Uruguai.\n",
    "A ideia era fazer uma TEC (Tarifa Externa Comum), para assim criar um imposto único a todos os produtos importados, e portanto uma união aduaneira.\n",
    "\n",
    "- União Européia: 1993. Inicialmente faziam parte somente Alemanha, Bélgica, Dinamarca, Espanha, França, Grécia, Irlanda, Itália, Luxemburgo, Países Baixos, Portugal, Reino Unido e Suécia.\n",
    "Se uniram com o objetivo de promover a paz, a prosperidade e a liberdade, e também para criar um mercado comum interno, com livre circulação de mercadorias, serviços, capitais e pessoas, além de promover coesão geral do território europeu, e ainda uma união monetária para facilitar relações comerciais."
   ]
  },
  {
   "cell_type": "code",
   "execution_count": null,
   "metadata": {},
   "outputs": [],
   "source": [
    "#2. Determinar um critério pra classificar \n",
    "# entre avançado e atrasado\n",
    "# e fazer essa classificação para cada país\n",
    "\n",
    "# Indicador: Share of youth not in education, employment or training, total (% of youth population)\n",
    "\n"
   ]
  },
  {
   "cell_type": "code",
   "execution_count": null,
   "metadata": {},
   "outputs": [],
   "source": [
    "#3. Usando os dados do 2,\n",
    "#fazer a prob de ser avançado em cada bloco (fácil)"
   ]
  },
  {
   "cell_type": "code",
   "execution_count": null,
   "metadata": {},
   "outputs": [],
   "source": [
    "#4. Não entendi esse???\n",
    "# Acho que é a prob de ser de cada bloco se for avançado???"
   ]
  },
  {
   "cell_type": "code",
   "execution_count": null,
   "metadata": {},
   "outputs": [],
   "source": [
    "#5. Esse aqui tem que ver os resultados do 2 e 3\n",
    "# Na real tbm não entendi o que ele quer dizer com sistema aqui"
   ]
  },
  {
   "cell_type": "code",
   "execution_count": null,
   "metadata": {},
   "outputs": [],
   "source": [
    "#6. Responder se o nosso indicador é um bom preditor para\n",
    "# o bloco econômico\tou não, e justificar\n",
    "# basicamente escrever uma conclusão bonitinha"
   ]
  }
 ],
 "metadata": {
  "kernelspec": {
   "display_name": "Python 3.10.8 64-bit (microsoft store)",
   "language": "python",
   "name": "python3"
  },
  "language_info": {
   "codemirror_mode": {
    "name": "ipython",
    "version": 3
   },
   "file_extension": ".py",
   "mimetype": "text/x-python",
   "name": "python",
   "nbconvert_exporter": "python",
   "pygments_lexer": "ipython3",
   "version": "3.10.8"
  },
  "orig_nbformat": 4,
  "vscode": {
   "interpreter": {
    "hash": "a8c838542c43d13d6fb1e17acd4e560fbc2695aad8c2b10825f20c6b73017b6f"
   }
  }
 },
 "nbformat": 4,
 "nbformat_minor": 2
}
