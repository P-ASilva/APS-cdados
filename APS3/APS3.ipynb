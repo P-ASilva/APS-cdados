{
 "cells": [
  {
   "cell_type": "code",
   "execution_count": 39,
   "metadata": {},
   "outputs": [],
   "source": [
    "# Imports.\n",
    "\n",
    "import pandas as pd\n",
    "import matplotlib.pyplot as plt\n",
    "import seaborn as sns\n",
    "import numpy as np"
   ]
  },
  {
   "cell_type": "code",
   "execution_count": 45,
   "metadata": {},
   "outputs": [],
   "source": [
    "# Initialize.\n",
    "\n",
    "pd.set_option('display.max_columns', None)\n",
    "df = pd.read_csv('GfSD\\SDGData.csv', sep=',',decimal='.', skiprows=0)\n",
    "\n",
    "years = [str(i) for i in range(1990,2021)]\n",
    "country_names = {\n",
    "    'MERCOSUL' : ['Brazil','Argentina','Paraguay','Uruguay','Venezuela, RB','Chile','Peru','Colombia','Ecuador','Guyana','Suriname'] ,\n",
    "    'UE' : ['Germany','Belgium''France','Italy','Luxembourg','Netherlands']\n",
    "}"
   ]
  },
  {
   "cell_type": "code",
   "execution_count": 46,
   "metadata": {},
   "outputs": [],
   "source": [
    "# Tratando e dividindo a DataBase.\n",
    "\n",
    "df = df.set_index('Country Name')\n",
    "\n",
    "# Não aplica as mudanças com um For, nem tenta. \n",
    "\n",
    "df_mercosul = df.loc[['Brazil','Argentina','Paraguay','Uruguay','Venezuela, RB','Chile','Peru','Colombia','Ecuador','Guyana','Suriname']]\n",
    "df_mercosul = df_mercosul.set_index('Indicator Name')\n",
    "df_mercosul = df_mercosul.loc['Share of youth not in education, employment or training, total (% of youth population)']\n",
    "\n",
    "df_eu = df.loc[['Germany','Belgium','France','Italy','Luxembourg','Netherlands']]\n",
    "df_eu = df_eu.set_index('Indicator Name')\n",
    "df_eu = df_eu.loc['Share of youth not in education, employment or training, total (% of youth population)']"
   ]
  },
  {
   "cell_type": "code",
   "execution_count": 4,
   "metadata": {},
   "outputs": [],
   "source": [
    "# Tratando dados."
   ]
  },
  {
   "cell_type": "code",
   "execution_count": 64,
   "metadata": {},
   "outputs": [
    {
     "data": {
      "text/plain": [
       "Indicator Name\n",
       "Share of youth not in education, employment or training, total (% of youth population)    20.809999\n",
       "Share of youth not in education, employment or training, total (% of youth population)          NaN\n",
       "Share of youth not in education, employment or training, total (% of youth population)          NaN\n",
       "Share of youth not in education, employment or training, total (% of youth population)          NaN\n",
       "Share of youth not in education, employment or training, total (% of youth population)          NaN\n",
       "Share of youth not in education, employment or training, total (% of youth population)    20.830000\n",
       "Share of youth not in education, employment or training, total (% of youth population)          NaN\n",
       "Share of youth not in education, employment or training, total (% of youth population)          NaN\n",
       "Share of youth not in education, employment or training, total (% of youth population)          NaN\n",
       "Share of youth not in education, employment or training, total (% of youth population)          NaN\n",
       "Share of youth not in education, employment or training, total (% of youth population)          NaN\n",
       "Name: 1996, dtype: float64"
      ]
     },
     "execution_count": 64,
     "metadata": {},
     "output_type": "execute_result"
    }
   ],
   "source": [
    "# Trabalhar dados. (Contas e etc)\n",
    "\n",
    "# a partir de 2003\n"
   ]
  },
  {
   "cell_type": "code",
   "execution_count": 6,
   "metadata": {},
   "outputs": [],
   "source": [
    "# Plotando o Gráfico."
   ]
  },
  {
   "cell_type": "markdown",
   "metadata": {},
   "source": [
    "Escolhemos o BRICS e a OPEP\n",
    "\n",
    "O BRICS foi criado visando o crescimento mútuo dos países emergentes/subdesenvolvidos envolvidos.\n",
    "\n",
    "A OPEP surgiu da necessidade de se estabelecer uma política comum em relação ao petróleo entre seus grandes produtores.\n",
    "Aberturas: Atua diretamente com cotas máximas de barris de petróleo por dia. Tal ação é para evitar/amenizar crises econômicas e competião desleal, com superprodução, escassez ou preços muito divergentes do produto."
   ]
  }
 ],
 "metadata": {
  "kernelspec": {
   "display_name": "Python 3.10.3 64-bit",
   "language": "python",
   "name": "python3"
  },
  "language_info": {
   "codemirror_mode": {
    "name": "ipython",
    "version": 3
   },
   "file_extension": ".py",
   "mimetype": "text/x-python",
   "name": "python",
   "nbconvert_exporter": "python",
   "pygments_lexer": "ipython3",
   "version": "3.10.3"
  },
  "orig_nbformat": 4,
  "vscode": {
   "interpreter": {
    "hash": "f93bff822687b96a1f2d7798e86ce2bae52c1bd6ece06dfb8c6e65b6bce06fb2"
   }
  }
 },
 "nbformat": 4,
 "nbformat_minor": 2
}
